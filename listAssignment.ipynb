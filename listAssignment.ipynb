{
  "nbformat": 4,
  "nbformat_minor": 0,
  "metadata": {
    "colab": {
      "provenance": []
    },
    "kernelspec": {
      "name": "python3",
      "display_name": "Python 3"
    },
    "language_info": {
      "name": "python"
    }
  },
  "cells": [
    {
      "cell_type": "code",
      "execution_count": null,
      "metadata": {
        "id": "J2C-m297DB_e"
      },
      "outputs": [],
      "source": [
        "Q1. What is the syntax for adding an element to a list in Python?\n",
        "Q2. What is the difference between remove() and pop() functions in Python?\n",
        "Q3. Write a Python code to sort a list in descending order.\n",
        "Q4. Write a Python code to count the number of occurrences of an element in a list.\n",
        "Q5. Write a Python code to reverse a list."
      ]
    },
    {
      "cell_type": "code",
      "source": [
        "my_list = [1, 2, 3, 4, 5]\n",
        "new_element = 6\n",
        "my_list.append(new_element)\n"
      ],
      "metadata": {
        "id": "k75gNIMpDIwA"
      },
      "execution_count": 2,
      "outputs": []
    },
    {
      "cell_type": "code",
      "source": [
        "my_list = [4, 7, 1, 9, 3]\n",
        "my_list.sort(reverse=True)\n",
        "print(my_list)\n"
      ],
      "metadata": {
        "id": "ndjv80qkDVB0"
      },
      "execution_count": null,
      "outputs": []
    },
    {
      "cell_type": "markdown",
      "source": [],
      "metadata": {
        "id": "_VgWgVMRDoqV"
      }
    },
    {
      "cell_type": "code",
      "source": [
        "my_list = [4, 7, 1, 9, 3]\n",
        "my_list.sort(reverse=True)\n",
        "print(my_list)\n"
      ],
      "metadata": {
        "id": "GccPyCwuDVHa"
      },
      "execution_count": null,
      "outputs": []
    },
    {
      "cell_type": "code",
      "source": [
        "my_list = [1, 2, 3, 4, 2, 2, 3]\n",
        "count = my_list.count(2)\n",
        "print(count)\n"
      ],
      "metadata": {
        "id": "wwjt_BWbDVMk"
      },
      "execution_count": null,
      "outputs": []
    },
    {
      "cell_type": "code",
      "source": [
        "my_list = [1, 2, 3, 4, 5]\n",
        "reversed_list = my_list[::-1]\n",
        "print(reversed_list)\n"
      ],
      "metadata": {
        "id": "jh5RbMPzDV56"
      },
      "execution_count": null,
      "outputs": []
    },
    {
      "cell_type": "code",
      "source": [],
      "metadata": {
        "id": "Aa2HAY0eD0J4"
      },
      "execution_count": null,
      "outputs": []
    }
  ]
}